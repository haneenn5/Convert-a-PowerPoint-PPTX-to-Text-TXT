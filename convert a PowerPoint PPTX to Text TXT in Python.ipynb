{
 "cells": [
  {
   "cell_type": "code",
   "execution_count": 5,
   "id": "284e92f0",
   "metadata": {},
   "outputs": [
    {
     "name": "stdout",
     "output_type": "stream",
     "text": [
      "Done, Check your text file \n"
     ]
    }
   ],
   "source": [
    "from pptx import Presentation\n",
    "\n",
    "ppt = Presentation(\"sample.pptx\") # creating an object\n",
    "\n",
    "File_to_write_data = open(\"File_To_Extract_ppt.txt\", \"w\") # open file in write mode\n",
    "\n",
    "\n",
    "# write text from powerpoint\n",
    "for slide in ppt.slides: # file into .txt file\n",
    "    for shape in slide.shapes:\n",
    "        if not shape.has_text_frame:\n",
    "            continue\n",
    "        for paragraph in shape.text_frame.paragraphs:\n",
    "            for run in paragraph.runs:\n",
    "                File_to_write_data.write(run.text)\n",
    "# close the file\n",
    "File_to_write_data.close()\n",
    "\n",
    "print(\"Done, Check your text file \") "
   ]
  }
 ],
 "metadata": {
  "kernelspec": {
   "display_name": "Python 3",
   "language": "python",
   "name": "python3"
  },
  "language_info": {
   "codemirror_mode": {
    "name": "ipython",
    "version": 3
   },
   "file_extension": ".py",
   "mimetype": "text/x-python",
   "name": "python",
   "nbconvert_exporter": "python",
   "pygments_lexer": "ipython3",
   "version": "3.8.8"
  }
 },
 "nbformat": 4,
 "nbformat_minor": 5
}
